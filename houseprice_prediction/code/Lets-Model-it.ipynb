{
 "cells": [
  {
   "cell_type": "code",
   "execution_count": 11,
   "metadata": {},
   "outputs": [],
   "source": [
    "import numpy as np\n",
    "import pandas as pd\n",
    "import matplotlib.pyplot as plt\n",
    "import seaborn as sns\n",
    "import statsmodels.api as sm"
   ]
  },
  {
   "cell_type": "code",
   "execution_count": 13,
   "metadata": {},
   "outputs": [
    {
     "data": {
      "text/plain": [
       "((15035, 20), (15035,))"
      ]
     },
     "execution_count": 13,
     "metadata": {},
     "output_type": "execute_result"
    }
   ],
   "source": [
    "df = pd.read_csv(\"../dataset/train.csv\")\n",
    "y_train = df['price']\n",
    "x_train = df.drop(columns=['price'])\n",
    "x_train.shape, y_train.shape"
   ]
  },
  {
   "cell_type": "markdown",
   "metadata": {},
   "source": [
    "### 기본 선형모델(feature를 추가하지 않은)\n",
    "- feature drop\n",
    "    - id, date, zipcode (drop)\n",
    "- OLS"
   ]
  },
  {
   "cell_type": "code",
   "execution_count": 22,
   "metadata": {},
   "outputs": [
    {
     "name": "stdout",
     "output_type": "stream",
     "text": [
      "                            OLS Regression Results                            \n",
      "==============================================================================\n",
      "Dep. Variable:        np.log1p(price)   R-squared:                       0.769\n",
      "Model:                            OLS   Adj. R-squared:                  0.769\n",
      "Method:                 Least Squares   F-statistic:                     3131.\n",
      "Date:                Mon, 01 Apr 2019   Prob (F-statistic):               0.00\n",
      "Time:                        22:10:59   Log-Likelihood:                -689.49\n",
      "No. Observations:               15035   AIC:                             1413.\n",
      "Df Residuals:                   15018   BIC:                             1542.\n",
      "Df Model:                          16                                         \n",
      "Covariance Type:            nonrobust                                         \n",
      "====================================================================================\n",
      "                       coef    std err          t      P>|t|      [0.025      0.975]\n",
      "------------------------------------------------------------------------------------\n",
      "C(waterfront)[0]   -52.4150      2.389    -21.936      0.000     -57.099     -47.731\n",
      "C(waterfront)[1]   -52.0795      2.390    -21.791      0.000     -56.764     -47.395\n",
      "bedrooms            -0.0102      0.003     -3.384      0.001      -0.016      -0.004\n",
      "bathrooms            0.0672      0.005     13.579      0.000       0.058       0.077\n",
      "sqft_living        9.45e-05   3.44e-06     27.503      0.000    8.78e-05       0.000\n",
      "sqft_lot          4.865e-07   7.14e-08      6.817      0.000    3.47e-07    6.26e-07\n",
      "floors               0.0712      0.005     13.086      0.000       0.061       0.082\n",
      "view                 0.0606      0.003     18.923      0.000       0.054       0.067\n",
      "condition            0.0703      0.004     19.750      0.000       0.063       0.077\n",
      "grade                0.1632      0.003     50.555      0.000       0.157       0.170\n",
      "sqft_above        3.774e-05   3.43e-06     11.014      0.000     3.1e-05    4.45e-05\n",
      "sqft_basement     5.677e-05      4e-06     14.190      0.000    4.89e-05    6.46e-05\n",
      "yr_built            -0.0032      0.000    -28.974      0.000      -0.003      -0.003\n",
      "yr_renovated      4.202e-05   5.54e-06      7.589      0.000    3.12e-05    5.29e-05\n",
      "lat                  1.3420      0.016     84.516      0.000       1.311       1.373\n",
      "long                -0.0462      0.018     -2.578      0.010      -0.081      -0.011\n",
      "sqft_living15     9.957e-05   5.16e-06     19.282      0.000    8.94e-05       0.000\n",
      "sqft_lot15       -2.323e-07   1.11e-07     -2.100      0.036   -4.49e-07   -1.55e-08\n",
      "==============================================================================\n",
      "Omnibus:                      288.374   Durbin-Watson:                   1.985\n",
      "Prob(Omnibus):                  0.000   Jarque-Bera (JB):              613.038\n",
      "Skew:                          -0.021   Prob(JB):                    7.60e-134\n",
      "Kurtosis:                       3.988   Cond. No.                     1.52e+17\n",
      "==============================================================================\n",
      "\n",
      "Warnings:\n",
      "[1] Standard Errors assume that the covariance matrix of the errors is correctly specified.\n",
      "[2] The smallest eigenvalue is 1.74e-21. This might indicate that there are\n",
      "strong multicollinearity problems or that the design matrix is singular.\n"
     ]
    }
   ],
   "source": [
    "model_ols = sm.OLS.from_formula(\"np.log1p(price) ~ bedrooms + bathrooms + sqft_living + sqft_lot + floors + C(waterfront) \\\n",
    "                    + view + condition + grade + sqft_above + sqft_basement + yr_built \\\n",
    "                    + yr_renovated + lat + long + sqft_living15 + sqft_lot15 - 1\", df)\n",
    "result = model_ols.fit()\n",
    "print(result.summary())"
   ]
  },
  {
   "cell_type": "markdown",
   "metadata": {},
   "source": [
    "- price보다 np.log1p(price)를 해주는게 R square가 높다.."
   ]
  },
  {
   "cell_type": "markdown",
   "metadata": {},
   "source": [
    "1. std err : \n",
    "2. t : \n",
    "3. p>|t| : \n",
    "4. F statistics : \n"
   ]
  },
  {
   "cell_type": "code",
   "execution_count": null,
   "metadata": {},
   "outputs": [],
   "source": []
  },
  {
   "cell_type": "code",
   "execution_count": null,
   "metadata": {},
   "outputs": [],
   "source": []
  }
 ],
 "metadata": {
  "kernelspec": {
   "display_name": "Python 3",
   "language": "python",
   "name": "python3"
  },
  "language_info": {
   "codemirror_mode": {
    "name": "ipython",
    "version": 3
   },
   "file_extension": ".py",
   "mimetype": "text/x-python",
   "name": "python",
   "nbconvert_exporter": "python",
   "pygments_lexer": "ipython3",
   "version": "3.6.6"
  }
 },
 "nbformat": 4,
 "nbformat_minor": 2
}
